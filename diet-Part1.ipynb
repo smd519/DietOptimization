{
 "cells": [
  {
   "cell_type": "markdown",
   "id": "a7566e74",
   "metadata": {},
   "source": [
    "# The Diet Problem\n",
    "\n",
    "The Diet Problem was motivated by the Army's desire to meet the nutritional requirements of its soldiers while minimizing the cost. Here, we solve the diet problem with real data. We investigate two scenario. first we investigate the basic meals where we only focouse on the nutrion and cost. Laster, we consider taste and falvour as part of the optimization problem.\n",
    "\n",
    "## Problem One: Basic Meals\n",
    "Here we, formulate the optimization model as a linear program, to find the cheapest diet that satisfies the maximum and minimum daily nutrition constraints, and solve it using PuLP.\n"
   ]
  },
  {
   "cell_type": "code",
   "execution_count": 1,
   "id": "1fba017d",
   "metadata": {},
   "outputs": [],
   "source": [
    "from pulp import *\n",
    "import pandas as pd"
   ]
  },
  {
   "cell_type": "markdown",
   "id": "fdef5820",
   "metadata": {},
   "source": [
    "# 1. Read and explore the data\n",
    "\n",
    "Here, we load the data from excel sheet, and explore the data"
   ]
  },
  {
   "cell_type": "code",
   "execution_count": 2,
   "id": "0645a983",
   "metadata": {},
   "outputs": [
    {
     "data": {
      "text/html": [
       "<div>\n",
       "<style scoped>\n",
       "    .dataframe tbody tr th:only-of-type {\n",
       "        vertical-align: middle;\n",
       "    }\n",
       "\n",
       "    .dataframe tbody tr th {\n",
       "        vertical-align: top;\n",
       "    }\n",
       "\n",
       "    .dataframe thead th {\n",
       "        text-align: right;\n",
       "    }\n",
       "</style>\n",
       "<table border=\"1\" class=\"dataframe\">\n",
       "  <thead>\n",
       "    <tr style=\"text-align: right;\">\n",
       "      <th></th>\n",
       "      <th>Foods</th>\n",
       "      <th>Price/ Serving</th>\n",
       "      <th>Serving Size</th>\n",
       "      <th>Calories</th>\n",
       "      <th>Cholesterol mg</th>\n",
       "      <th>Total_Fat g</th>\n",
       "      <th>Sodium mg</th>\n",
       "      <th>Carbohydrates g</th>\n",
       "      <th>Dietary_Fiber g</th>\n",
       "      <th>Protein g</th>\n",
       "      <th>Vit_A IU</th>\n",
       "      <th>Vit_C IU</th>\n",
       "      <th>Calcium mg</th>\n",
       "      <th>Iron mg</th>\n",
       "    </tr>\n",
       "  </thead>\n",
       "  <tbody>\n",
       "    <tr>\n",
       "      <th>0</th>\n",
       "      <td>Frozen Broccoli</td>\n",
       "      <td>0.16</td>\n",
       "      <td>10 Oz Pkg</td>\n",
       "      <td>73.8</td>\n",
       "      <td>0.0</td>\n",
       "      <td>0.8</td>\n",
       "      <td>68.2</td>\n",
       "      <td>13.6</td>\n",
       "      <td>8.5</td>\n",
       "      <td>8.0</td>\n",
       "      <td>5867.4</td>\n",
       "      <td>160.2</td>\n",
       "      <td>159.0</td>\n",
       "      <td>2.3</td>\n",
       "    </tr>\n",
       "    <tr>\n",
       "      <th>1</th>\n",
       "      <td>Carrots,Raw</td>\n",
       "      <td>0.07</td>\n",
       "      <td>1/2 Cup Shredded</td>\n",
       "      <td>23.7</td>\n",
       "      <td>0.0</td>\n",
       "      <td>0.1</td>\n",
       "      <td>19.2</td>\n",
       "      <td>5.6</td>\n",
       "      <td>1.6</td>\n",
       "      <td>0.6</td>\n",
       "      <td>15471.0</td>\n",
       "      <td>5.1</td>\n",
       "      <td>14.9</td>\n",
       "      <td>0.3</td>\n",
       "    </tr>\n",
       "    <tr>\n",
       "      <th>2</th>\n",
       "      <td>Celery, Raw</td>\n",
       "      <td>0.04</td>\n",
       "      <td>1 Stalk</td>\n",
       "      <td>6.4</td>\n",
       "      <td>0.0</td>\n",
       "      <td>0.1</td>\n",
       "      <td>34.8</td>\n",
       "      <td>1.5</td>\n",
       "      <td>0.7</td>\n",
       "      <td>0.3</td>\n",
       "      <td>53.6</td>\n",
       "      <td>2.8</td>\n",
       "      <td>16.0</td>\n",
       "      <td>0.2</td>\n",
       "    </tr>\n",
       "    <tr>\n",
       "      <th>3</th>\n",
       "      <td>Frozen Corn</td>\n",
       "      <td>0.18</td>\n",
       "      <td>1/2 Cup</td>\n",
       "      <td>72.2</td>\n",
       "      <td>0.0</td>\n",
       "      <td>0.6</td>\n",
       "      <td>2.5</td>\n",
       "      <td>17.1</td>\n",
       "      <td>2.0</td>\n",
       "      <td>2.5</td>\n",
       "      <td>106.6</td>\n",
       "      <td>5.2</td>\n",
       "      <td>3.3</td>\n",
       "      <td>0.3</td>\n",
       "    </tr>\n",
       "    <tr>\n",
       "      <th>4</th>\n",
       "      <td>Lettuce,Iceberg,Raw</td>\n",
       "      <td>0.02</td>\n",
       "      <td>1 Leaf</td>\n",
       "      <td>2.6</td>\n",
       "      <td>0.0</td>\n",
       "      <td>0.0</td>\n",
       "      <td>1.8</td>\n",
       "      <td>0.4</td>\n",
       "      <td>0.3</td>\n",
       "      <td>0.2</td>\n",
       "      <td>66.0</td>\n",
       "      <td>0.8</td>\n",
       "      <td>3.8</td>\n",
       "      <td>0.1</td>\n",
       "    </tr>\n",
       "  </tbody>\n",
       "</table>\n",
       "</div>"
      ],
      "text/plain": [
       "                 Foods  Price/ Serving      Serving Size  Calories  \\\n",
       "0      Frozen Broccoli            0.16         10 Oz Pkg      73.8   \n",
       "1          Carrots,Raw            0.07  1/2 Cup Shredded      23.7   \n",
       "2          Celery, Raw            0.04           1 Stalk       6.4   \n",
       "3          Frozen Corn            0.18           1/2 Cup      72.2   \n",
       "4  Lettuce,Iceberg,Raw            0.02            1 Leaf       2.6   \n",
       "\n",
       "   Cholesterol mg  Total_Fat g  Sodium mg  Carbohydrates g  Dietary_Fiber g  \\\n",
       "0             0.0          0.8       68.2             13.6              8.5   \n",
       "1             0.0          0.1       19.2              5.6              1.6   \n",
       "2             0.0          0.1       34.8              1.5              0.7   \n",
       "3             0.0          0.6        2.5             17.1              2.0   \n",
       "4             0.0          0.0        1.8              0.4              0.3   \n",
       "\n",
       "   Protein g  Vit_A IU  Vit_C IU  Calcium mg  Iron mg  \n",
       "0        8.0    5867.4     160.2       159.0      2.3  \n",
       "1        0.6   15471.0       5.1        14.9      0.3  \n",
       "2        0.3      53.6       2.8        16.0      0.2  \n",
       "3        2.5     106.6       5.2         3.3      0.3  \n",
       "4        0.2      66.0       0.8         3.8      0.1  "
      ]
     },
     "execution_count": 2,
     "metadata": {},
     "output_type": "execute_result"
    }
   ],
   "source": [
    "# load the diet data\n",
    "df = pd.read_excel( open('data/diet.xls','rb'),sheet_name='Sheet1')\n",
    "\n",
    "df.head()"
   ]
  },
  {
   "cell_type": "markdown",
   "id": "d657d9ca",
   "metadata": {},
   "source": [
    "# 2. Clean the Data\n",
    "\n",
    "We just explore the data, and make sure the format and values are correct. Here, we noticed that the last 3 rows of xls file contains one empty row, minimum daily intake, and maximum daily intake"
   ]
  },
  {
   "cell_type": "code",
   "execution_count": 3,
   "id": "e5cd0c5c",
   "metadata": {},
   "outputs": [
    {
     "data": {
      "text/html": [
       "<div>\n",
       "<style scoped>\n",
       "    .dataframe tbody tr th:only-of-type {\n",
       "        vertical-align: middle;\n",
       "    }\n",
       "\n",
       "    .dataframe tbody tr th {\n",
       "        vertical-align: top;\n",
       "    }\n",
       "\n",
       "    .dataframe thead th {\n",
       "        text-align: right;\n",
       "    }\n",
       "</style>\n",
       "<table border=\"1\" class=\"dataframe\">\n",
       "  <thead>\n",
       "    <tr style=\"text-align: right;\">\n",
       "      <th></th>\n",
       "      <th>Foods</th>\n",
       "      <th>Price/ Serving</th>\n",
       "      <th>Serving Size</th>\n",
       "      <th>Calories</th>\n",
       "      <th>Cholesterol mg</th>\n",
       "      <th>Total_Fat g</th>\n",
       "      <th>Sodium mg</th>\n",
       "      <th>Carbohydrates g</th>\n",
       "      <th>Dietary_Fiber g</th>\n",
       "      <th>Protein g</th>\n",
       "      <th>Vit_A IU</th>\n",
       "      <th>Vit_C IU</th>\n",
       "      <th>Calcium mg</th>\n",
       "      <th>Iron mg</th>\n",
       "    </tr>\n",
       "  </thead>\n",
       "  <tbody>\n",
       "    <tr>\n",
       "      <th>62</th>\n",
       "      <td>Crm Mshrm Soup,W/Mlk</td>\n",
       "      <td>0.65</td>\n",
       "      <td>1 C (8 Fl Oz)</td>\n",
       "      <td>203.4</td>\n",
       "      <td>19.8</td>\n",
       "      <td>13.6</td>\n",
       "      <td>1076.3</td>\n",
       "      <td>15.0</td>\n",
       "      <td>0.5</td>\n",
       "      <td>6.1</td>\n",
       "      <td>153.8</td>\n",
       "      <td>2.2</td>\n",
       "      <td>178.6</td>\n",
       "      <td>0.6</td>\n",
       "    </tr>\n",
       "    <tr>\n",
       "      <th>63</th>\n",
       "      <td>Beanbacn Soup,W/Watr</td>\n",
       "      <td>0.67</td>\n",
       "      <td>1 C (8 Fl Oz)</td>\n",
       "      <td>172.0</td>\n",
       "      <td>2.5</td>\n",
       "      <td>5.9</td>\n",
       "      <td>951.3</td>\n",
       "      <td>22.8</td>\n",
       "      <td>8.6</td>\n",
       "      <td>7.9</td>\n",
       "      <td>888.0</td>\n",
       "      <td>1.5</td>\n",
       "      <td>81.0</td>\n",
       "      <td>2.0</td>\n",
       "    </tr>\n",
       "    <tr>\n",
       "      <th>64</th>\n",
       "      <td>NaN</td>\n",
       "      <td>NaN</td>\n",
       "      <td>NaN</td>\n",
       "      <td>NaN</td>\n",
       "      <td>NaN</td>\n",
       "      <td>NaN</td>\n",
       "      <td>NaN</td>\n",
       "      <td>NaN</td>\n",
       "      <td>NaN</td>\n",
       "      <td>NaN</td>\n",
       "      <td>NaN</td>\n",
       "      <td>NaN</td>\n",
       "      <td>NaN</td>\n",
       "      <td>NaN</td>\n",
       "    </tr>\n",
       "    <tr>\n",
       "      <th>65</th>\n",
       "      <td>NaN</td>\n",
       "      <td>NaN</td>\n",
       "      <td>Minimum daily intake</td>\n",
       "      <td>1500.0</td>\n",
       "      <td>30.0</td>\n",
       "      <td>20.0</td>\n",
       "      <td>800.0</td>\n",
       "      <td>130.0</td>\n",
       "      <td>125.0</td>\n",
       "      <td>60.0</td>\n",
       "      <td>1000.0</td>\n",
       "      <td>400.0</td>\n",
       "      <td>700.0</td>\n",
       "      <td>10.0</td>\n",
       "    </tr>\n",
       "    <tr>\n",
       "      <th>66</th>\n",
       "      <td>NaN</td>\n",
       "      <td>NaN</td>\n",
       "      <td>Maximum daily intake</td>\n",
       "      <td>2500.0</td>\n",
       "      <td>240.0</td>\n",
       "      <td>70.0</td>\n",
       "      <td>2000.0</td>\n",
       "      <td>450.0</td>\n",
       "      <td>250.0</td>\n",
       "      <td>100.0</td>\n",
       "      <td>10000.0</td>\n",
       "      <td>5000.0</td>\n",
       "      <td>1500.0</td>\n",
       "      <td>40.0</td>\n",
       "    </tr>\n",
       "  </tbody>\n",
       "</table>\n",
       "</div>"
      ],
      "text/plain": [
       "                   Foods  Price/ Serving          Serving Size  Calories  \\\n",
       "62  Crm Mshrm Soup,W/Mlk            0.65         1 C (8 Fl Oz)     203.4   \n",
       "63  Beanbacn Soup,W/Watr            0.67         1 C (8 Fl Oz)     172.0   \n",
       "64                   NaN             NaN                   NaN       NaN   \n",
       "65                   NaN             NaN  Minimum daily intake    1500.0   \n",
       "66                   NaN             NaN  Maximum daily intake    2500.0   \n",
       "\n",
       "    Cholesterol mg  Total_Fat g  Sodium mg  Carbohydrates g  Dietary_Fiber g  \\\n",
       "62            19.8         13.6     1076.3             15.0              0.5   \n",
       "63             2.5          5.9      951.3             22.8              8.6   \n",
       "64             NaN          NaN        NaN              NaN              NaN   \n",
       "65            30.0         20.0      800.0            130.0            125.0   \n",
       "66           240.0         70.0     2000.0            450.0            250.0   \n",
       "\n",
       "    Protein g  Vit_A IU  Vit_C IU  Calcium mg  Iron mg  \n",
       "62        6.1     153.8       2.2       178.6      0.6  \n",
       "63        7.9     888.0       1.5        81.0      2.0  \n",
       "64        NaN       NaN       NaN         NaN      NaN  \n",
       "65       60.0    1000.0     400.0       700.0     10.0  \n",
       "66      100.0   10000.0    5000.0      1500.0     40.0  "
      ]
     },
     "execution_count": 3,
     "metadata": {},
     "output_type": "execute_result"
    }
   ],
   "source": [
    "df.tail()"
   ]
  },
  {
   "cell_type": "code",
   "execution_count": 4,
   "id": "63fd4153",
   "metadata": {},
   "outputs": [
    {
     "data": {
      "text/html": [
       "<div>\n",
       "<style scoped>\n",
       "    .dataframe tbody tr th:only-of-type {\n",
       "        vertical-align: middle;\n",
       "    }\n",
       "\n",
       "    .dataframe tbody tr th {\n",
       "        vertical-align: top;\n",
       "    }\n",
       "\n",
       "    .dataframe thead th {\n",
       "        text-align: right;\n",
       "    }\n",
       "</style>\n",
       "<table border=\"1\" class=\"dataframe\">\n",
       "  <thead>\n",
       "    <tr style=\"text-align: right;\">\n",
       "      <th></th>\n",
       "      <th>Foods</th>\n",
       "      <th>Price/ Serving</th>\n",
       "      <th>Serving Size</th>\n",
       "      <th>Calories</th>\n",
       "      <th>Cholesterol mg</th>\n",
       "      <th>Total_Fat g</th>\n",
       "      <th>Sodium mg</th>\n",
       "      <th>Carbohydrates g</th>\n",
       "      <th>Dietary_Fiber g</th>\n",
       "      <th>Protein g</th>\n",
       "      <th>Vit_A IU</th>\n",
       "      <th>Vit_C IU</th>\n",
       "      <th>Calcium mg</th>\n",
       "      <th>Iron mg</th>\n",
       "    </tr>\n",
       "  </thead>\n",
       "  <tbody>\n",
       "    <tr>\n",
       "      <th>59</th>\n",
       "      <td>Neweng Clamchwd</td>\n",
       "      <td>0.75</td>\n",
       "      <td>1 C (8 Fl Oz)</td>\n",
       "      <td>175.7</td>\n",
       "      <td>10.0</td>\n",
       "      <td>5.0</td>\n",
       "      <td>1864.9</td>\n",
       "      <td>21.8</td>\n",
       "      <td>1.5</td>\n",
       "      <td>10.9</td>\n",
       "      <td>20.1</td>\n",
       "      <td>4.8</td>\n",
       "      <td>82.8</td>\n",
       "      <td>2.8</td>\n",
       "    </tr>\n",
       "    <tr>\n",
       "      <th>60</th>\n",
       "      <td>Tomato Soup</td>\n",
       "      <td>0.39</td>\n",
       "      <td>1 C (8 Fl Oz)</td>\n",
       "      <td>170.7</td>\n",
       "      <td>0.0</td>\n",
       "      <td>3.8</td>\n",
       "      <td>1744.4</td>\n",
       "      <td>33.2</td>\n",
       "      <td>1.0</td>\n",
       "      <td>4.1</td>\n",
       "      <td>1393.0</td>\n",
       "      <td>133.0</td>\n",
       "      <td>27.6</td>\n",
       "      <td>3.5</td>\n",
       "    </tr>\n",
       "    <tr>\n",
       "      <th>61</th>\n",
       "      <td>New E Clamchwd,W/Mlk</td>\n",
       "      <td>0.99</td>\n",
       "      <td>1 C (8 Fl Oz)</td>\n",
       "      <td>163.7</td>\n",
       "      <td>22.3</td>\n",
       "      <td>6.6</td>\n",
       "      <td>992.0</td>\n",
       "      <td>16.6</td>\n",
       "      <td>1.5</td>\n",
       "      <td>9.5</td>\n",
       "      <td>163.7</td>\n",
       "      <td>3.5</td>\n",
       "      <td>186.0</td>\n",
       "      <td>1.5</td>\n",
       "    </tr>\n",
       "    <tr>\n",
       "      <th>62</th>\n",
       "      <td>Crm Mshrm Soup,W/Mlk</td>\n",
       "      <td>0.65</td>\n",
       "      <td>1 C (8 Fl Oz)</td>\n",
       "      <td>203.4</td>\n",
       "      <td>19.8</td>\n",
       "      <td>13.6</td>\n",
       "      <td>1076.3</td>\n",
       "      <td>15.0</td>\n",
       "      <td>0.5</td>\n",
       "      <td>6.1</td>\n",
       "      <td>153.8</td>\n",
       "      <td>2.2</td>\n",
       "      <td>178.6</td>\n",
       "      <td>0.6</td>\n",
       "    </tr>\n",
       "    <tr>\n",
       "      <th>63</th>\n",
       "      <td>Beanbacn Soup,W/Watr</td>\n",
       "      <td>0.67</td>\n",
       "      <td>1 C (8 Fl Oz)</td>\n",
       "      <td>172.0</td>\n",
       "      <td>2.5</td>\n",
       "      <td>5.9</td>\n",
       "      <td>951.3</td>\n",
       "      <td>22.8</td>\n",
       "      <td>8.6</td>\n",
       "      <td>7.9</td>\n",
       "      <td>888.0</td>\n",
       "      <td>1.5</td>\n",
       "      <td>81.0</td>\n",
       "      <td>2.0</td>\n",
       "    </tr>\n",
       "  </tbody>\n",
       "</table>\n",
       "</div>"
      ],
      "text/plain": [
       "                   Foods  Price/ Serving   Serving Size  Calories  \\\n",
       "59       Neweng Clamchwd            0.75  1 C (8 Fl Oz)     175.7   \n",
       "60           Tomato Soup            0.39  1 C (8 Fl Oz)     170.7   \n",
       "61  New E Clamchwd,W/Mlk            0.99  1 C (8 Fl Oz)     163.7   \n",
       "62  Crm Mshrm Soup,W/Mlk            0.65  1 C (8 Fl Oz)     203.4   \n",
       "63  Beanbacn Soup,W/Watr            0.67  1 C (8 Fl Oz)     172.0   \n",
       "\n",
       "    Cholesterol mg  Total_Fat g  Sodium mg  Carbohydrates g  Dietary_Fiber g  \\\n",
       "59            10.0          5.0     1864.9             21.8              1.5   \n",
       "60             0.0          3.8     1744.4             33.2              1.0   \n",
       "61            22.3          6.6      992.0             16.6              1.5   \n",
       "62            19.8         13.6     1076.3             15.0              0.5   \n",
       "63             2.5          5.9      951.3             22.8              8.6   \n",
       "\n",
       "    Protein g  Vit_A IU  Vit_C IU  Calcium mg  Iron mg  \n",
       "59       10.9      20.1       4.8        82.8      2.8  \n",
       "60        4.1    1393.0     133.0        27.6      3.5  \n",
       "61        9.5     163.7       3.5       186.0      1.5  \n",
       "62        6.1     153.8       2.2       178.6      0.6  \n",
       "63        7.9     888.0       1.5        81.0      2.0  "
      ]
     },
     "execution_count": 4,
     "metadata": {},
     "output_type": "execute_result"
    }
   ],
   "source": [
    "# data cleaning\n",
    "data = df[0:64].copy()\n",
    "data.tail()"
   ]
  },
  {
   "cell_type": "markdown",
   "id": "adfebd75",
   "metadata": {},
   "source": [
    "# 3. Data Prepration\n",
    "\n",
    "Here, we orgonize the data into more readible formats. \n",
    "\n",
    "+ We create some dictionaries for each listed food item and its corresponding nutrition value.\n",
    "+ We create two dictionaries for Minimum and Maximum daily intake\n",
    "+ We create a list of name of the foods and nutritions"
   ]
  },
  {
   "cell_type": "code",
   "execution_count": 5,
   "id": "90922809",
   "metadata": {},
   "outputs": [
    {
     "name": "stdout",
     "output_type": "stream",
     "text": [
      "\n",
      "\n",
      "Calcium mg\n",
      " {'Frozen Broccoli': 159.0, 'Carrots,Raw': 14.9, 'Celery, Raw': 16.0, 'Frozen Corn': 3.3, 'Lettuce,Iceberg,Raw': 3.8, 'Peppers, Sweet, Raw': 6.7, 'Potatoes, Baked': 22.7, 'Tofu': 121.8, 'Roasted Chicken': 21.9, 'Spaghetti W/ Sauce': 80.2, 'Tomato,Red,Ripe,Raw': 6.2, 'Apple,Raw,W/Skin': 9.7, 'Banana': 6.8, 'Grapes': 3.4, 'Kiwifruit,Raw,Fresh': 19.8, 'Oranges': 52.4, 'Bagels': 21.0, 'Wheat Bread': 10.8, 'White Bread': 26.2, 'Oatmeal Cookies': 6.7, 'Apple Pie': 3.1, 'Chocolate Chip Cookies': 6.2, 'Butter,Regular': 1.2, 'Cheddar Cheese': 202.0, '3.3% Fat,Whole Milk': 291.3, '2% Lowfat Milk': 296.7, 'Skim Milk': 302.3, 'Poached Eggs': 24.5, 'Scrambled Eggs': 42.6, 'Bologna,Turkey': 23.8, 'Frankfurter, Beef': 9.0, 'Ham,Sliced,Extralean': 2.0, 'Kielbasa,Prk': 11.4, \"Cap'N Crunch\": 4.8, 'Cheerios': 48.6, \"Corn Flks, Kellogg'S\": 0.9, \"Raisin Brn, Kellg'S\": 12.9, 'Rice Krispies': 4.0, 'Special K': 8.2, 'Oatmeal': 18.7, 'Malt-O-Meal,Choc': 23.1, 'Pizza W/Pepperoni': 64.6, 'Taco': 220.6, 'Hamburger W/Toppings': 51.4, 'Hotdog, Plain': 23.5, 'Couscous': 7.2, 'White Rice': 7.9, 'Macaroni,Ckd': 4.9, 'Peanut Butter': 13.1, 'Pork': 59.9, 'Sardines in Oil': 91.7, 'White Tuna in Water': 3.4, 'Popcorn,Air-Popped': 2.8, 'Potato Chips,Bbqflvr': 14.2, 'Pretzels': 10.2, 'Tortilla Chip': 43.7, 'Chicknoodl Soup': 27.1, 'Splt Pea&Hamsoup': 33.6, 'Vegetbeef Soup': 32.6, 'Neweng Clamchwd': 82.8, 'Tomato Soup': 27.6, 'New E Clamchwd,W/Mlk': 186.0, 'Crm Mshrm Soup,W/Mlk': 178.6, 'Beanbacn Soup,W/Watr': 81.0}\n"
     ]
    }
   ],
   "source": [
    "foods_dict = data.set_index('Foods').to_dict()\n",
    "# Sample output\n",
    "print(\"\\n\\nCalcium mg\\n\", foods_dict['Calcium mg'])"
   ]
  },
  {
   "cell_type": "code",
   "execution_count": 6,
   "id": "34616434",
   "metadata": {},
   "outputs": [
    {
     "name": "stdout",
     "output_type": "stream",
     "text": [
      "Minimum daily intake:\n",
      " {'Calories': 1500.0, 'Cholesterol mg': 30.0, 'Total_Fat g': 20.0, 'Sodium mg': 800.0, 'Carbohydrates g': 130.0, 'Dietary_Fiber g': 125.0, 'Protein g': 60.0, 'Vit_A IU': 1000.0, 'Vit_C IU': 400.0, 'Calcium mg': 700.0, 'Iron mg': 10.0}\n",
      "\n",
      "\n",
      " Maximum daily intake:\n",
      " {'Calories': 2500.0, 'Cholesterol mg': 240.0, 'Total_Fat g': 70.0, 'Sodium mg': 2000.0, 'Carbohydrates g': 450.0, 'Dietary_Fiber g': 250.0, 'Protein g': 100.0, 'Vit_A IU': 10000.0, 'Vit_C IU': 5000.0, 'Calcium mg': 1500.0, 'Iron mg': 40.0}\n"
     ]
    }
   ],
   "source": [
    "# Minimum daily intake\n",
    "dmin = df.iloc[65,3:].to_dict()\n",
    "# Maximum daily intake\n",
    "dmax = df.iloc[66,3:].to_dict()\n",
    "\n",
    "print(\"Minimum daily intake:\\n\", dmin)\n",
    "\n",
    "print(\"\\n\\n Maximum daily intake:\\n\", dmax)"
   ]
  },
  {
   "cell_type": "code",
   "execution_count": 7,
   "id": "03acb76f",
   "metadata": {},
   "outputs": [
    {
     "name": "stdout",
     "output_type": "stream",
     "text": [
      "foods:\n",
      " ['Frozen Broccoli', 'Carrots,Raw', 'Celery, Raw', 'Frozen Corn', 'Lettuce,Iceberg,Raw', 'Peppers, Sweet, Raw', 'Potatoes, Baked', 'Tofu', 'Roasted Chicken', 'Spaghetti W/ Sauce', 'Tomato,Red,Ripe,Raw', 'Apple,Raw,W/Skin', 'Banana', 'Grapes', 'Kiwifruit,Raw,Fresh', 'Oranges', 'Bagels', 'Wheat Bread', 'White Bread', 'Oatmeal Cookies', 'Apple Pie', 'Chocolate Chip Cookies', 'Butter,Regular', 'Cheddar Cheese', '3.3% Fat,Whole Milk', '2% Lowfat Milk', 'Skim Milk', 'Poached Eggs', 'Scrambled Eggs', 'Bologna,Turkey', 'Frankfurter, Beef', 'Ham,Sliced,Extralean', 'Kielbasa,Prk', \"Cap'N Crunch\", 'Cheerios', \"Corn Flks, Kellogg'S\", \"Raisin Brn, Kellg'S\", 'Rice Krispies', 'Special K', 'Oatmeal', 'Malt-O-Meal,Choc', 'Pizza W/Pepperoni', 'Taco', 'Hamburger W/Toppings', 'Hotdog, Plain', 'Couscous', 'White Rice', 'Macaroni,Ckd', 'Peanut Butter', 'Pork', 'Sardines in Oil', 'White Tuna in Water', 'Popcorn,Air-Popped', 'Potato Chips,Bbqflvr', 'Pretzels', 'Tortilla Chip', 'Chicknoodl Soup', 'Splt Pea&Hamsoup', 'Vegetbeef Soup', 'Neweng Clamchwd', 'Tomato Soup', 'New E Clamchwd,W/Mlk', 'Crm Mshrm Soup,W/Mlk', 'Beanbacn Soup,W/Watr']\n",
      "\n",
      "\n",
      "constraints:\n",
      " ['Cholesterol mg', 'Total_Fat g', 'Sodium mg', 'Carbohydrates g', 'Dietary_Fiber g', 'Protein g', 'Vit_A IU', 'Vit_C IU', 'Calcium mg', 'Iron mg']\n"
     ]
    }
   ],
   "source": [
    "foods = list(data['Foods'])\n",
    "constraints = list(foods_dict.keys())[3:]\n",
    "\n",
    "print(\"foods:\\n\", foods)\n",
    "\n",
    "print(\"\\n\\nconstraints:\\n\", constraints)\n"
   ]
  },
  {
   "cell_type": "markdown",
   "id": "f222306b",
   "metadata": {},
   "source": [
    "# 4. Define the optimization problem framework\n",
    "\n",
    "To define the optimization problem, we need to define the variables, constraines and objective funtions. "
   ]
  },
  {
   "cell_type": "code",
   "execution_count": 8,
   "id": "62278660",
   "metadata": {},
   "outputs": [],
   "source": [
    "# create the minimization problem framework \n",
    "prob1 = LpProblem('PuLPTutorial', LpMinimize)"
   ]
  },
  {
   "cell_type": "code",
   "execution_count": 9,
   "id": "64d42ac8",
   "metadata": {},
   "outputs": [],
   "source": [
    "# Define a dictionary for foods referenced Variables (# of serving)\n",
    "food_vars = LpVariable.dicts('Food', foods, lowBound=0, cat='Continuous')"
   ]
  },
  {
   "cell_type": "code",
   "execution_count": 10,
   "id": "251c2782",
   "metadata": {},
   "outputs": [],
   "source": [
    "# Define a dictionary for foods -  (chosen or not)\n",
    "chosen_Vars = LpVariable.dicts(\"Chosen\", foods, lowBound=0, upBound=1, cat=\"Binary\")"
   ]
  },
  {
   "cell_type": "code",
   "execution_count": 11,
   "id": "af42860b",
   "metadata": {},
   "outputs": [],
   "source": [
    "# define the objective function: Cost of Foods per person\n",
    "prob1 += lpSum([foods_dict['Price/ Serving'][f] * food_vars[f] for f in foods])"
   ]
  },
  {
   "cell_type": "code",
   "execution_count": 12,
   "id": "fca427a2",
   "metadata": {},
   "outputs": [],
   "source": [
    "# Add maximum and minimum daily nutrition constraints\n",
    "for constraint in constraints:\n",
    "    prob1 += lpSum([foods_dict[constraint][f] * food_vars[f] for f in foods]) >= dmin[constraint], constraint + \"minRequirement\"\n",
    "    prob1 += lpSum([foods_dict[constraint][f] * food_vars[f] for f in foods]) <= dmax[constraint], constraint + \"MaxRequirement\"\n",
    "    "
   ]
  },
  {
   "cell_type": "code",
   "execution_count": 13,
   "id": "e4949fea",
   "metadata": {},
   "outputs": [],
   "source": [
    "# Write down the the problem data\n",
    "#prob1.writeLP(\"DietModelforProblem1.lp\")"
   ]
  },
  {
   "cell_type": "markdown",
   "id": "ae2ca39c",
   "metadata": {},
   "source": [
    "# 5. Solve the optimization and print the calulated values\n",
    "\n",
    "Here, we solve the optimization problem, and then print the calculated **Non-Zero** values."
   ]
  },
  {
   "cell_type": "code",
   "execution_count": 14,
   "id": "0d12bbc5",
   "metadata": {},
   "outputs": [
    {
     "name": "stdout",
     "output_type": "stream",
     "text": [
      "Status: Optimal\n"
     ]
    }
   ],
   "source": [
    "# Solve the problem\n",
    "prob1.solve()\n",
    "\n",
    "# Print the solution\n",
    "print (\"Status:\", LpStatus[prob1.status])"
   ]
  },
  {
   "cell_type": "code",
   "execution_count": 15,
   "id": "e0c59c39",
   "metadata": {},
   "outputs": [
    {
     "name": "stdout",
     "output_type": "stream",
     "text": [
      "Food_Celery,_Raw  :  52.6437\n",
      "Food_Frozen_Broccoli  :  0.259607\n",
      "Food_Lettuce,Iceberg,Raw  :  63.9885\n",
      "Food_Oranges  :  2.29294\n",
      "Food_Poached_Eggs  :  0.141844\n",
      "Food_Popcorn,Air_Popped  :  13.8693\n"
     ]
    }
   ],
   "source": [
    "# Print the calculated optimum serving for each food\n",
    "for serving in prob1.variables():\n",
    "    if serving.varValue > 0:\n",
    "        print (serving.name, \" : \", serving.varValue)"
   ]
  },
  {
   "cell_type": "code",
   "execution_count": 16,
   "id": "d4c9727c",
   "metadata": {},
   "outputs": [
    {
     "name": "stdout",
     "output_type": "stream",
     "text": [
      "\n",
      "\n",
      "Cost of Food per person =  4.33711564\n"
     ]
    }
   ],
   "source": [
    "# Print the minimum Cost Per Person    \n",
    "print (\"\\n\\nCost of Food per person = \", value(prob1.objective))"
   ]
  }
 ],
 "metadata": {
  "kernelspec": {
   "display_name": "Python 3",
   "language": "python",
   "name": "python3"
  },
  "language_info": {
   "codemirror_mode": {
    "name": "ipython",
    "version": 3
   },
   "file_extension": ".py",
   "mimetype": "text/x-python",
   "name": "python",
   "nbconvert_exporter": "python",
   "pygments_lexer": "ipython3",
   "version": "3.8.8"
  }
 },
 "nbformat": 4,
 "nbformat_minor": 5
}
